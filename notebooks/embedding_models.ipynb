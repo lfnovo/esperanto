{
 "cells": [
  {
   "cell_type": "markdown",
   "metadata": {},
   "source": [
    "# Embedding Models"
   ]
  },
  {
   "cell_type": "code",
   "execution_count": 4,
   "metadata": {},
   "outputs": [],
   "source": [
    "from esperanto import AIFactory\n",
    "embedding_models = [\n",
    "    (\"openai\", \"text-embedding-3-small\"),\n",
    "    (\"azure\", \"text-embedding-3-small\"),\n",
    "    (\"ollama\", \"mxbai-embed-large\"),\n",
    "    (\"google\", \"text-embedding-004\"),\n",
    "    (\"mistral\", \"mistral-embed\"),\n",
    "    (\"voyage\", \"voyage-3-large\"),\n",
    "    (\"transformers\", \"sentence-transformers/all-MiniLM-L6-v2\"),\n",
    "    (\"transformers\", \"qwen/qwen3-embedding-4b\"),\n",
    "    (\"jina\", \"jina-embeddings-v4\")\n",
    "]\n",
    "\n",
    "texts = [\"Hello, world!\", \"Another text\"]\n"
   ]
  },
  {
   "cell_type": "markdown",
   "metadata": {},
   "source": [
    "### Synchronous"
   ]
  },
  {
   "cell_type": "code",
   "execution_count": 5,
   "metadata": {},
   "outputs": [
    {
     "name": "stdout",
     "output_type": "stream",
     "text": [
      "Results for openai:\n",
      "1536\n",
      "1536\n",
      "\n",
      "==================================================\n",
      "\n",
      "Results for azure:\n",
      "1536\n",
      "1536\n",
      "\n",
      "==================================================\n",
      "\n",
      "Results for ollama:\n",
      "1024\n",
      "1024\n",
      "\n",
      "==================================================\n",
      "\n",
      "Results for google:\n",
      "768\n",
      "768\n",
      "\n",
      "==================================================\n",
      "\n",
      "Results for mistral:\n",
      "1024\n",
      "1024\n",
      "\n",
      "==================================================\n",
      "\n",
      "Results for voyage:\n",
      "1024\n",
      "1024\n",
      "\n",
      "==================================================\n",
      "\n",
      "Results for transformers:\n",
      "384\n",
      "384\n",
      "\n",
      "==================================================\n",
      "\n"
     ]
    },
    {
     "name": "stderr",
     "output_type": "stream",
     "text": [
      "huggingface/tokenizers: The current process just got forked, after parallelism has already been used. Disabling parallelism to avoid deadlocks...\n",
      "To disable this warning, you can either:\n",
      "\t- Avoid using `tokenizers` before the fork if possible\n",
      "\t- Explicitly set the environment variable TOKENIZERS_PARALLELISM=(true | false)\n"
     ]
    },
    {
     "data": {
      "application/vnd.jupyter.widget-view+json": {
       "model_id": "adfa378c5a5f4c14ab7b03e07704659d",
       "version_major": 2,
       "version_minor": 0
      },
      "text/plain": [
       "Loading checkpoint shards:   0%|          | 0/2 [00:00<?, ?it/s]"
      ]
     },
     "metadata": {},
     "output_type": "display_data"
    },
    {
     "name": "stdout",
     "output_type": "stream",
     "text": [
      "Results for transformers:\n",
      "2560\n",
      "2560\n",
      "\n",
      "==================================================\n",
      "\n",
      "Results for jina:\n",
      "2048\n",
      "2048\n",
      "\n",
      "==================================================\n",
      "\n"
     ]
    }
   ],
   "source": [
    "\n",
    "for name, config in embedding_models:\n",
    "    embed_model = AIFactory.create_embedding(provider=name, model_name=config)\n",
    "    print(f\"Results for {embed_model.provider}:\")\n",
    "    embeddings = embed_model.embed(texts)\n",
    "    print(len(embeddings[0]))\n",
    "    print(len(embeddings[1]))\n",
    "    print(\"\\n\" + \"=\"*50 + \"\\n\")\n",
    "    "
   ]
  },
  {
   "cell_type": "markdown",
   "metadata": {},
   "source": [
    "### Asynchronous"
   ]
  },
  {
   "cell_type": "code",
   "execution_count": 6,
   "metadata": {},
   "outputs": [
    {
     "name": "stdout",
     "output_type": "stream",
     "text": [
      "Results for openai:\n",
      "1536\n",
      "1536\n",
      "\n",
      "==================================================\n",
      "\n",
      "Results for azure:\n",
      "1536\n",
      "1536\n",
      "\n",
      "==================================================\n",
      "\n",
      "Results for ollama:\n",
      "1024\n",
      "1024\n",
      "\n",
      "==================================================\n",
      "\n",
      "Results for google:\n",
      "768\n",
      "768\n",
      "\n",
      "==================================================\n",
      "\n",
      "Results for mistral:\n",
      "1024\n",
      "1024\n",
      "\n",
      "==================================================\n",
      "\n",
      "Results for voyage:\n",
      "1024\n",
      "1024\n",
      "\n",
      "==================================================\n",
      "\n",
      "Results for transformers:\n",
      "384\n",
      "384\n",
      "\n",
      "==================================================\n",
      "\n",
      "Results for transformers:\n",
      "2560\n",
      "2560\n",
      "\n",
      "==================================================\n",
      "\n",
      "Results for jina:\n",
      "2048\n",
      "2048\n",
      "\n",
      "==================================================\n",
      "\n"
     ]
    }
   ],
   "source": [
    "\n",
    "for name, config in embedding_models:\n",
    "    embed_model = AIFactory.create_embedding(provider=name, model_name=config)\n",
    "    print(f\"Results for {embed_model.provider}:\")\n",
    "    embeddings = await embed_model.aembed(texts=texts)\n",
    "    print(len(embeddings[0]))\n",
    "    print(len(embeddings[1]))\n",
    "    print(\"\\n\" + \"=\"*50 + \"\\n\")\n",
    "    "
   ]
  }
 ],
 "metadata": {
  "kernelspec": {
   "display_name": ".venv",
   "language": "python",
   "name": "python3"
  },
  "language_info": {
   "codemirror_mode": {
    "name": "ipython",
    "version": 3
   },
   "file_extension": ".py",
   "mimetype": "text/x-python",
   "name": "python",
   "nbconvert_exporter": "python",
   "pygments_lexer": "ipython3",
   "version": "3.10.6"
  }
 },
 "nbformat": 4,
 "nbformat_minor": 2
}
