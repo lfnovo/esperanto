{
 "cells": [
  {
   "cell_type": "code",
   "execution_count": 1,
   "id": "62636470",
   "metadata": {},
   "outputs": [
    {
     "name": "stdout",
     "output_type": "stream",
     "text": [
      "\n",
      "Results for jina jina-reranker-v2-base-multilingual:\n",
      "Score: 1.000 - Cuidado de la piel orgánico para piel sensible con aloe vera y manzanilla: Descubre el poder de la n...\n",
      "Score: 0.206 - Organic skincare for sensitive skin with aloe vera and chamomile: Imagine the soothing embrace of na...\n",
      "Score: 0.000 - Bio-Hautpflege für empfindliche Haut mit Aloe Vera und Kamille: Erleben Sie die wohltuende Wirkung u...\n",
      "\n",
      "Results for voyage rerank-2:\n",
      "Score: 1.000 - Cuidado de la piel orgánico para piel sensible con aloe vera y manzanilla: Descubre el poder de la n...\n",
      "Score: 0.583 - Organic skincare for sensitive skin with aloe vera and chamomile: Imagine the soothing embrace of na...\n",
      "Score: 0.000 - Bio-Hautpflege für empfindliche Haut mit Aloe Vera und Kamille: Erleben Sie die wohltuende Wirkung u...\n"
     ]
    },
    {
     "data": {
      "application/vnd.jupyter.widget-view+json": {
       "model_id": "326bf4c06a504251b0c6ddef8396e232",
       "version_major": 2,
       "version_minor": 0
      },
      "text/plain": [
       "Loading checkpoint shards:   0%|          | 0/2 [00:00<?, ?it/s]"
      ]
     },
     "metadata": {},
     "output_type": "display_data"
    },
    {
     "name": "stdout",
     "output_type": "stream",
     "text": [
      "\n",
      "Results for transformers Qwen/Qwen3-Reranker-4B:\n",
      "Score: 0.500 - Organic skincare for sensitive skin with aloe vera and chamomile: Imagine the soothing embrace of na...\n",
      "Score: 0.500 - New makeup trends focus on bold colors and innovative techniques: Step into the world of cutting-edg...\n",
      "Score: 0.500 - Bio-Hautpflege für empfindliche Haut mit Aloe Vera und Kamille: Erleben Sie die wohltuende Wirkung u...\n"
     ]
    }
   ],
   "source": [
    "from esperanto import AIFactory\n",
    "\n",
    "reranker_models = [\n",
    "    (\"jina\", \"jina-reranker-v2-base-multilingual\"),\n",
    "    (\"voyage\", \"rerank-2\"),\n",
    "    (\"transformers\", \"Qwen/Qwen3-Reranker-4B\"),\n",
    "]\n",
    "\n",
    "documents = [\n",
    "    \"Organic skincare for sensitive skin with aloe vera and chamomile: Imagine the soothing embrace of nature with our organic skincare range, crafted specifically for sensitive skin. Infused with the calming properties of aloe vera and chamomile, each product provides gentle nourishment and protection. Say goodbye to irritation and hello to a glowing, healthy complexion.\",\n",
    "    \"New makeup trends focus on bold colors and innovative techniques: Step into the world of cutting-edge beauty with this seasons makeup trends. Bold, vibrant colors and groundbreaking techniques are redefining the art of makeup. From neon eyeliners to holographic highlighters, unleash your creativity and make a statement with every look.\",\n",
    "    \"Bio-Hautpflege für empfindliche Haut mit Aloe Vera und Kamille: Erleben Sie die wohltuende Wirkung unserer Bio-Hautpflege, speziell für empfindliche Haut entwickelt. Mit den beruhigenden Eigenschaften von Aloe Vera und Kamille pflegen und schützen unsere Produkte Ihre Haut auf natürliche Weise. Verabschieden Sie sich von Hautirritationen und genießen Sie einen strahlenden Teint.\",\n",
    "    \"Eu passeio com meu cachorro todos os dias. \",\n",
    "    \"Cuidado de la piel orgánico para piel sensible con aloe vera y manzanilla: Descubre el poder de la naturaleza con nuestra línea de cuidado de la piel orgánico, diseñada especialmente para pieles sensibles. Enriquecidos con aloe vera y manzanilla, estos productos ofrecen una hidratación y protección suave. Despídete de las irritaciones y saluda a una piel radiante y saludable.\",\n",
    "]\n",
    "\n",
    "query = \"Beneficios do Aloe Vera para a pele\"\n",
    "top_k = 3\n",
    "\n",
    "for provider, model in reranker_models:\n",
    "    try:\n",
    "        reranker = AIFactory.create_reranker(provider, model)\n",
    "        results = reranker.rerank(query, documents, top_k)\n",
    "        print(f\"\\nResults for {provider} {model}:\")\n",
    "        for result in results.results:\n",
    "            print(f\"Score: {result.relevance_score:.3f} - {result.document[:100]}...\")\n",
    "    except Exception as e:\n",
    "        print(f\"Error with {provider} {model}: {str(e)}\")"
   ]
  },
  {
   "cell_type": "code",
   "execution_count": 2,
   "id": "ec234274",
   "metadata": {},
   "outputs": [
    {
     "name": "stdout",
     "output_type": "stream",
     "text": [
      "\n",
      "Results for jina jina-reranker-v2-base-multilingual:\n",
      "Score: 1.000 - Cuidado de la piel orgánico para piel sensible con aloe vera y manzanilla: Descubre el poder de la n...\n",
      "Score: 0.208 - Organic skincare for sensitive skin with aloe vera and chamomile: Imagine the soothing embrace of na...\n",
      "Score: 0.000 - Bio-Hautpflege für empfindliche Haut mit Aloe Vera und Kamille: Erleben Sie die wohltuende Wirkung u...\n",
      "\n",
      "Results for voyage rerank-2:\n",
      "Score: 1.000 - Cuidado de la piel orgánico para piel sensible con aloe vera y manzanilla: Descubre el poder de la n...\n",
      "Score: 0.583 - Organic skincare for sensitive skin with aloe vera and chamomile: Imagine the soothing embrace of na...\n",
      "Score: 0.000 - Bio-Hautpflege für empfindliche Haut mit Aloe Vera und Kamille: Erleben Sie die wohltuende Wirkung u...\n",
      "\n",
      "Results for transformers Qwen/Qwen3-Reranker-4B:\n",
      "Score: 0.500 - Organic skincare for sensitive skin with aloe vera and chamomile: Imagine the soothing embrace of na...\n",
      "Score: 0.500 - New makeup trends focus on bold colors and innovative techniques: Step into the world of cutting-edg...\n",
      "Score: 0.500 - Bio-Hautpflege für empfindliche Haut mit Aloe Vera und Kamille: Erleben Sie die wohltuende Wirkung u...\n"
     ]
    }
   ],
   "source": [
    "for provider, model in reranker_models:\n",
    "    try:\n",
    "        reranker = AIFactory.create_reranker(provider, model)\n",
    "        results = await reranker.arerank(query, documents, top_k)\n",
    "        print(f\"\\nResults for {provider} {model}:\")\n",
    "        for result in results.results:\n",
    "            print(f\"Score: {result.relevance_score:.3f} - {result.document[:100]}...\")\n",
    "    except Exception as e:\n",
    "        print(f\"Error with {provider} {model}: {str(e)}\")"
   ]
  }
 ],
 "metadata": {
  "kernelspec": {
   "display_name": ".venv",
   "language": "python",
   "name": "python3"
  },
  "language_info": {
   "codemirror_mode": {
    "name": "ipython",
    "version": 3
   },
   "file_extension": ".py",
   "mimetype": "text/x-python",
   "name": "python",
   "nbconvert_exporter": "python",
   "pygments_lexer": "ipython3",
   "version": "3.10.6"
  }
 },
 "nbformat": 4,
 "nbformat_minor": 5
}
